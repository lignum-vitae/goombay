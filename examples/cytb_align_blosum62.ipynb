{
  "nbformat": 4,
  "nbformat_minor": 0,
  "metadata": {
    "colab": {
      "provenance": []
    },
    "kernelspec": {
      "name": "python3",
      "display_name": "Python 3"
    },
    "language_info": {
      "name": "python"
    }
  },
  "cells": [
    {
      "cell_type": "markdown",
      "source": [
        "This is a walkthrough on how to use [Goombay](https://github.com/lignum-vitae/goombay) and [Biobase](https://github.com/lignum-vitae/biobase) to create a distance matrix and phylogenetic tree to show evolutionary distances between different species with the addition of a substitution matrix."
      ],
      "metadata": {
        "id": "RitMT4JKnyMg"
      }
    },
    {
      "cell_type": "markdown",
      "source": [
        "Install Goombay and Biobase using either `pip` or `uv`. For the purposes of this demonstration, we'll be using `pip`. Outside of Google Colab, the prefix \"!\" would be omitted while entering the following shell command in the terminal."
      ],
      "metadata": {
        "id": "EhgUGVP7oqef"
      }
    },
    {
      "cell_type": "code",
      "source": [
        "!pip install --upgrade goombay\n",
        "!pip install --upgrade biobase\n",
        "!pip install --upgrade numpy\n",
        "!pip install --upgrade biopython\n",
        "!pip install --upgrade matplotlib"
      ],
      "metadata": {
        "id": "I9IV2_QTpD52"
      },
      "execution_count": null,
      "outputs": []
    },
    {
      "cell_type": "markdown",
      "source": [
        "Goombay has over 20 sequence alignment algorithms including Waterman-Smith-Beyer, Smith-Waterman, Gotoh, and Jaro. For the purposes of this demonstation, we'll be using the Needleman-Wunsch algorithm to globally align the sequences and generate a distance matrix.\n",
        "\n",
        "The Neighbour Joining algorithm from Goombay will be used to generate the newick tree format needed to generate a visual tree. Newick tree format is a way of representing graph-theoretical trees with edge lengths using parentheses and commas. This allows the tree to be described programmatically before generating the final visual tree.\n",
        "\n",
        "Phylo and io are used to read the generated newick and display the tree. Although not strictly needed for this example, numpy will be used to make working with 2-D matrices easier."
      ],
      "metadata": {
        "id": "PjP34k7Io2bO"
      }
    },
    {
      "cell_type": "code",
      "source": [
        "# Standard library imports\n",
        "from io import StringIO\n",
        "import requests\n",
        "\n",
        "# Third-party imports\n",
        "from Bio import Phylo\n",
        "from biobase.matrix import Blosum\n",
        "from biobase.parser import fasta_parser\n",
        "from goombay import NeedlemanWunsch, NeighborJoining\n",
        "import numpy as np\n",
        "import matplotlib.pyplot as plt"
      ],
      "metadata": {
        "id": "v2JQL71UkmMi"
      },
      "execution_count": 4,
      "outputs": []
    },
    {
      "cell_type": "markdown",
      "source": [
        "For this example, we'll be working with the `cytochrome b` protein across several species in order to determine evolutionary distance.\n",
        "\n",
        "- \"[BAA06892.1](https://www.ncbi.nlm.nih.gov/protein/BAA06892.1?report=fasta)\" - Bubalus bubalis (water buffalo)\n",
        "- \"[YP_001648467.1](https://www.ncbi.nlm.nih.gov/protein/YP_001648467.1?report=fasta)\" - Ephydatia muelleri (sea sponge)\n",
        "- \"[AMV74140.1](https://www.ncbi.nlm.nih.gov/protein/AMV74140.1?report=fasta)\" - Spongilla lacustris (fresh water sea sponge)\n",
        "- \"[CAA39742.1](https://www.ncbi.nlm.nih.gov/protein/CAA39742.1?report=fasta)\" - Sus scrofa (wild boar)\n",
        "- \"[AYV91364.1](https://www.ncbi.nlm.nih.gov/protein/AYV91364.1?report=fasta)\" - Halichondria panicea (sea sponge)\n",
        "- \"[AAA19775.1](https://www.ncbi.nlm.nih.gov/protein/AAA19775.1?report=fasta)\" - Homo sapiens (human)\n",
        "- \"[P00158.1](https://www.ncbi.nlm.nih.gov/protein/P00158.1?report=fasta)\" - Mus musculus (house mouse)\n",
        "- \"[AAL57481.2](https://www.ncbi.nlm.nih.gov/protein/AAL57481.2?report=fasta)\" - Bos indicus (zebu/cattle)\n",
        "- \"[BAA85863.1](https://www.ncbi.nlm.nih.gov/protein/BAA85863.1?report=fasta)\" - Rattus rattus (black rat)\n",
        "- \"[CAA24007.1](https://www.ncbi.nlm.nih.gov/protein/CAA24007.1?report=fasta)\" - Bos taurus (cattle)\n"
      ],
      "metadata": {
        "id": "VeIW2j9pR5H5"
      }
    },
    {
      "cell_type": "code",
      "source": [
        "accn = [\"BAA06892.1\", \"YP_001648467.1\", \"AMV74140.1\", \"CAA39742.1\", \"AYV91364.1\", \"AAA19775.1\", \"P00158.1\", \"AAL57481.2\", \"BAA85863.1\", \"CAA24007.1\"]"
      ],
      "metadata": {
        "id": "aKllClcyv9SA"
      },
      "execution_count": 5,
      "outputs": []
    },
    {
      "cell_type": "code",
      "source": [
        "def get_fasta_data(accessions: list[str]) -> list[str]:\n",
        "  fasta_seqs = []\n",
        "  for seq in accessions:\n",
        "      res = requests.get(f\"https://www.ncbi.nlm.nih.gov/sviewer/viewer.fcgi?id={seq}&db=protein&report=fasta\")\n",
        "      fasta_seqs.append(res.text)\n",
        "  return fasta_seqs"
      ],
      "metadata": {
        "id": "GPdktchGzRU6"
      },
      "execution_count": 6,
      "outputs": []
    },
    {
      "cell_type": "code",
      "source": [
        "seqs = (get_fasta_data(accn))\n",
        "print(seqs[0])"
      ],
      "metadata": {
        "colab": {
          "base_uri": "https://localhost:8080/"
        },
        "id": "ljNmq8_Qv_KO",
        "outputId": "0adcace6-77fd-4174-d8cc-3b0e482551ae"
      },
      "execution_count": 7,
      "outputs": [
        {
          "output_type": "stream",
          "name": "stdout",
          "text": [
            ">BAA06892.1 cytochrome b (mitochondrion) [Bubalus bubalis]\n",
            "MTNIRKSHPLMKILNNAFIDLPAPSNISSWWNFGSLLGIWLILQILTGLFLAMHYTSDTTTAFSSVAHIC\n",
            "RDVNYGWIIRYMHANGASMFFICLYMHVGRGMYYGSYTFLETWNIGVILLFAVMATAFMGYVLPWGQMSF\n",
            "WGATVITNLLSAIPYIGTSLVEWIWGGFSVDKATLTRFFAFHFILPFIIAALAMVHLLFLHETGSNNPTG\n",
            "ISSDTDKIPFHPYYTIKDILGALLLILALMLLVLFAPDLLGDPDNYTPANPLNTPPHIKPEWYFLFAYAI\n",
            "LRSIPNKLGGVLALVLSILILILMPLLHTSKQRSMMFRPFSQCLFWILVANLLTLTWIGGQPVEHPYIII\n",
            "GQLASITYFLLILVLMPTASMIENNLLKW\n",
            "\n",
            "\n"
          ]
        }
      ]
    },
    {
      "cell_type": "markdown",
      "source": [
        "After getting the fasta data, it can be parsed with the fasta_parser function from Biobase so that the FASTA header and the sequence itself can easily be accessed separately."
      ],
      "metadata": {
        "id": "a5pbmTnnZdsR"
      }
    },
    {
      "cell_type": "code",
      "source": [
        "parsed_seqs = []\n",
        "for seq in seqs:\n",
        "  parsed = fasta_parser(seq)\n",
        "  parsed_seqs.extend(parsed)\n",
        "  print(parsed)\n",
        "\n",
        "print(\"\\n\", parsed_seqs[0].id)\n",
        "print(parsed_seqs[0].name)\n",
        "print(parsed_seqs[0].seq)"
      ],
      "metadata": {
        "colab": {
          "base_uri": "https://localhost:8080/"
        },
        "id": "9_uy-Rsj2Kj1",
        "outputId": "d2642c77-1ace-4117-9031-cb2ef15329d3"
      },
      "execution_count": 8,
      "outputs": [
        {
          "output_type": "stream",
          "name": "stdout",
          "text": [
            "[FastaRecord(id='BAA06892.1', name='cytochrome b (mitochondrion) [Bubalus bubalis]', seq_len=379)]\n",
            "[FastaRecord(id='YP_001648467.1', name='cytochrome b (mitochondrion) [Ephydatia muelleri]', seq_len=381)]\n",
            "[FastaRecord(id='AMV74140.1', name='cytochrome b (mitochondrion) [Spongilla lacustris]', seq_len=381)]\n",
            "[FastaRecord(id='CAA39742.1', name='cytochrome b (mitochondrion) [Sus scrofa]', seq_len=379)]\n",
            "[FastaRecord(id='AYV91364.1', name='cytochrome b (mitochondrion) [Halichondria panicea]', seq_len=383)]\n",
            "[FastaRecord(id='AAA19775.1', name='cytochrome b, partial (mitochondrion) [Homo sapiens]', seq_len=380)]\n",
            "[FastaRecord(id='sp|P00158.1|CYB_MOUSE', name='RecName: Full=Cytochrome b; AltName: Full=Complex III subunit 3; AltName: Full=Complex III subunit III; AltName: Full=Cytochrome b-c1 complex subunit 3; AltName: Full=Ubiquinol-cytochrome-c reductase complex cytochrome b subunit', seq_len=381)]\n",
            "[FastaRecord(id='AAL57481.2', name='cytochrome b (mitochondrion) [Bos indicus]', seq_len=379)]\n",
            "[FastaRecord(id='BAA85863.1', name='cytochrome b, partial (mitochondrion) [Rattus rattus]', seq_len=380)]\n",
            "[FastaRecord(id='CAA24007.1', name='cytochrome b (mitochondrion) [Bos taurus]', seq_len=379)]\n",
            "\n",
            " BAA06892.1\n",
            "cytochrome b (mitochondrion) [Bubalus bubalis]\n",
            "MTNIRKSHPLMKILNNAFIDLPAPSNISSWWNFGSLLGIWLILQILTGLFLAMHYTSDTTTAFSSVAHICRDVNYGWIIRYMHANGASMFFICLYMHVGRGMYYGSYTFLETWNIGVILLFAVMATAFMGYVLPWGQMSFWGATVITNLLSAIPYIGTSLVEWIWGGFSVDKATLTRFFAFHFILPFIIAALAMVHLLFLHETGSNNPTGISSDTDKIPFHPYYTIKDILGALLLILALMLLVLFAPDLLGDPDNYTPANPLNTPPHIKPEWYFLFAYAILRSIPNKLGGVLALVLSILILILMPLLHTSKQRSMMFRPFSQCLFWILVANLLTLTWIGGQPVEHPYIIIGQLASITYFLLILVLMPTASMIENNLLKW\n"
          ]
        }
      ]
    },
    {
      "cell_type": "markdown",
      "source": [
        "Next, a distance matrix is created by performing a pairwise alignment between each pair of sequences. Since these scores are reflected across the diagonal, duplicate calculations can be skipped and the diagonal can be set directly to zero, which reduces overall computation time."
      ],
      "metadata": {
        "id": "MNGvUQ-EZu4k"
      }
    },
    {
      "cell_type": "code",
      "source": [
        "dist_matrix = np.zeros((len(parsed_seqs), len(parsed_seqs)))\n",
        "needleman_wunsch_62 = NeedlemanWunsch(scoring_matrix=Blosum(62))\n",
        "\n",
        "for i, subject in enumerate(parsed_seqs):\n",
        "  for j, query in enumerate(parsed_seqs):\n",
        "    # Skips duplicate calculations\n",
        "    if i > j:\n",
        "      dist_matrix[i, j] = dist_matrix[j, i]\n",
        "      continue\n",
        "    # Distance of sequence from itself is 0\n",
        "    if i == j:\n",
        "      dist_matrix[i, j] = 0\n",
        "      continue\n",
        "    dist = needleman_wunsch_62.normalized_distance(subject.seq, query.seq)\n",
        "    dist_matrix[i, j] = dist"
      ],
      "metadata": {
        "id": "Q4ReHY0w5eKJ"
      },
      "execution_count": 9,
      "outputs": []
    },
    {
      "cell_type": "code",
      "source": [
        "np.set_printoptions(threshold=np.inf, linewidth=np.inf, precision=8, suppress=True)\n",
        "print(dist_matrix)"
      ],
      "metadata": {
        "colab": {
          "base_uri": "https://localhost:8080/"
        },
        "id": "2Ci_SSGtXp0i",
        "outputId": "87573864-50bf-4c4c-c7db-03c693b7f132"
      },
      "execution_count": 10,
      "outputs": [
        {
          "output_type": "stream",
          "name": "stdout",
          "text": [
            "[[0.         0.35262136 0.35427234 0.03983552 0.4218083  0.10999457 0.06520031 0.03036489 0.06318538 0.03036489]\n",
            " [0.35262136 0.         0.01570018 0.35330739 0.17224736 0.37365177 0.35307692 0.34730769 0.34913295 0.34730769]\n",
            " [0.35427234 0.01570018 0.         0.3488463  0.16197605 0.36986832 0.34648105 0.34750676 0.34457364 0.34750676]\n",
            " [0.03983552 0.35330739 0.3488463  0.         0.41192412 0.10767562 0.06666667 0.03935185 0.06420335 0.03935185]\n",
            " [0.4218083  0.17224736 0.16197605 0.41192412 0.         0.42456814 0.41235136 0.40891622 0.40699462 0.4078341 ]\n",
            " [0.10999457 0.37365177 0.36986832 0.10767562 0.42456814 0.         0.10815217 0.1063772  0.11029612 0.10577705]\n",
            " [0.06520031 0.35307692 0.34648105 0.06666667 0.41235136 0.10815217 0.         0.06863003 0.02812262 0.06863003]\n",
            " [0.03036489 0.34730769 0.34750676 0.03935185 0.40891622 0.1063772  0.06863003 0.         0.06687648 0.00049826]\n",
            " [0.06318538 0.34913295 0.34457364 0.06420335 0.40699462 0.11029612 0.02812262 0.06687648 0.         0.06687648]\n",
            " [0.03036489 0.34730769 0.34750676 0.03935185 0.4078341  0.10577705 0.06863003 0.00049826 0.06687648 0.        ]]\n"
          ]
        }
      ]
    },
    {
      "cell_type": "markdown",
      "source": [
        "Now that a distance matrix has been created, we can perform the last step of creating a phylogenetic tree using the Neighbour Joining method from Goombay.\n",
        "\n",
        "To generate a tree, first a newick formatted string of the relative distances is created. Next, this string is converted to the file-like string buffer that is the correct type for the input of `Phylo.read()`. After the tree is generated by `Phylo.read()`, it can be displayed to the screen using `Phylo.draw()`.\n",
        "\n",
        "The number labels at the end of each branch correspond to the index of the original list of accession numbers."
      ],
      "metadata": {
        "id": "iuYyAfxhaKg1"
      }
    },
    {
      "cell_type": "code",
      "source": [
        "def generate_tree(distance_matrix):\n",
        "  nj_dist = NeighborJoining(distance_matrix)\n",
        "  newick = nj_dist.generate_newick()\n",
        "\n",
        "  handle = StringIO(newick)\n",
        "  tree = Phylo.read(handle, \"newick\")\n",
        "  return tree, newick"
      ],
      "metadata": {
        "id": "PCCy4-9vRNuA"
      },
      "execution_count": 11,
      "outputs": []
    },
    {
      "cell_type": "code",
      "source": [
        "tree, newick = generate_tree(dist_matrix)\n",
        "\n",
        "mapping = {\n",
        "    \"0\": \"Bubalus bubalis\",\n",
        "    \"1\": \"Ephydatia muelleri\",\n",
        "    \"2\": \"Spongilla lacustris\",\n",
        "    \"3\": \"Sus scrofa\",\n",
        "    \"4\": \"Halichondria panicea\",\n",
        "    \"5\": \"Homo sapiens\",\n",
        "    \"6\": \"Mus musculus\",\n",
        "    \"7\": \"Bos indicus\",\n",
        "    \"8\": \"Rattus rattus\",\n",
        "    \"9\": \"Bos taurus\",\n",
        "}\n",
        "\n",
        "for clade in tree.find_clades():\n",
        "  if clade.name in mapping:\n",
        "    clade.name = mapping[clade.name]\n",
        "\n",
        "Phylo.draw(tree, do_show=False)\n",
        "plt.title(\"CytB - Blosum62\")\n",
        "plt.show()\n",
        "print(newick)"
      ],
      "metadata": {
        "colab": {
          "base_uri": "https://localhost:8080/",
          "height": 509
        },
        "id": "-3Cr8YaLO8R7",
        "outputId": "c2cc6bfe-4e40-4d3e-a30d-e223edb392eb"
      },
      "execution_count": 15,
      "outputs": [
        {
          "output_type": "display_data",
          "data": {
            "text/plain": [
              "<Figure size 640x480 with 1 Axes>"
            ],
            "image/png": "[encoded data removed]"
          },
          "metadata": {}
        },
        {
          "output_type": "stream",
          "name": "stdout",
          "text": [
            "((0:0.015711672604084015,(7:0.0003204524691682309,9:0.00017780365305952728):0.014404088258743286):0.0024756481871008873,(3:0.01945994235575199,((6:0.014893199317157269,8:0.013229425065219402):0.01832633465528488,(5:0.06259641796350479,(4:0.11403201520442963,(1:0.009576457849469283,2:0.006123719410596501):0.04522959515452385):0.25201186537742615):0.012639649212360382):0.013496911153197289):0.0024756481871008873);\n"
          ]
        }
      ]
    },
    {
      "cell_type": "markdown",
      "source": [
        "# Key\n",
        "\n",
        "- [0] Bubalus bubalis (water buffalo)\n",
        "- [1] Ephydatia muelleri (sea sponge)\n",
        "- [2] Spongilla lacustris (fresh water sea sponge)\n",
        "- [3] Sus scrofa (wild boar)\n",
        "- [4] Halichondria panicea (sea sponge)\n",
        "- [5] Homo sapiens (human)\n",
        "- [6] Mus musculus (house mouse)\n",
        "- [7] Bos indicus (zebu/cattle)\n",
        "- [8] Rattus rattus (black rat)\n",
        "- [9] Bos taurus (cattle)"
      ],
      "metadata": {
        "id": "cGIk2I8gWQqg"
      }
    }
  ]
}