{
  "nbformat": 4,
  "nbformat_minor": 0,
  "metadata": {
    "colab": {
      "provenance": []
    },
    "kernelspec": {
      "name": "python3",
      "display_name": "Python 3"
    },
    "language_info": {
      "name": "python"
    }
  },
  "cells": [
    {
      "cell_type": "markdown",
      "source": [
        "This is a walkthrough on how to use [Goombay](https://github.com/lignum-vitae/goombay) and [Biobase](https://github.com/lignum-vitae/biobase) to create a distance matrix and phylogenetic tree to show evolutionary distances between different species with the addition of a substitution matrix."
      ],
      "metadata": {
        "id": "RitMT4JKnyMg"
      }
    },
    {
      "cell_type": "markdown",
      "source": [
        "Install Goombay and Biobase using either `pip` or `uv`. For the purposes of this demonstration, we'll be using `pip`. Outside of Google Colab, the prefix \"!\" would be omitted while entering the following shell command in the terminal."
      ],
      "metadata": {
        "id": "EhgUGVP7oqef"
      }
    },
    {
      "cell_type": "code",
      "source": [
        "!pip install --upgrade goombay\n",
        "!pip install --upgrade biobase\n",
        "!pip install --upgrade numpy\n",
        "!pip install --upgrade biopython"
      ],
      "metadata": {
        "id": "I9IV2_QTpD52"
      },
      "execution_count": null,
      "outputs": []
    },
    {
      "cell_type": "markdown",
      "source": [
        "Goombay has over 20 sequence alignment algorithms including Waterman-Smith-Beyer, Smith-Waterman, Gotoh, and Jaro. For the purposes of this demonstation, we'll be using the Needleman-Wunsch algorithm to globally align the sequences and generate a distance matrix.\n",
        "\n",
        "The Neighbour Joining algorithm from Goombay will be used to generate the newick tree format needed to generate a visual tree. Newick tree format is a way of representing graph-theoretical trees with edge lengths using parentheses and commas. This allows the tree to be described programmatically before generating the final visual tree.\n",
        "\n",
        "Phylo and io are used to read the generated newick and display the tree. Although not strictly needed for this example, numpy will be used to make working with 2-D matrices easier."
      ],
      "metadata": {
        "id": "PjP34k7Io2bO"
      }
    },
    {
      "cell_type": "code",
      "source": [
        "# Standard library imports\n",
        "from io import StringIO\n",
        "import requests\n",
        "\n",
        "# Third-party imports\n",
        "from Bio import Phylo\n",
        "from biobase.matrix import Blosum\n",
        "from biobase.parser import fasta_parser\n",
        "from goombay import NeedlemanWunsch, NeighborJoining\n",
        "import numpy as np"
      ],
      "metadata": {
        "id": "v2JQL71UkmMi"
      },
      "execution_count": 12,
      "outputs": []
    },
    {
      "cell_type": "markdown",
      "source": [
        "For this example, we'll be working with the `cytochrome b` protein across several species in order to determine evolutionary distance.\n",
        "\n",
        "- \"[BAA06892.1](https://www.ncbi.nlm.nih.gov/protein/BAA06892.1?report=fasta)\" - Bubalus bubalis (water buffalo)\n",
        "- \"[YP_001648467.1](https://www.ncbi.nlm.nih.gov/protein/YP_001648467.1?report=fasta)\" - Ephydatia muelleri (sea sponge)\n",
        "- \"[AMV74140.1](https://www.ncbi.nlm.nih.gov/protein/AMV74140.1?report=fasta)\" - Spongilla lacustris (fresh water sea sponge)\n",
        "- \"[CAA39742.1](https://www.ncbi.nlm.nih.gov/protein/CAA39742.1?report=fasta)\" - Sus scrofa (wild boar)\n",
        "- \"[AYV91364.1](https://www.ncbi.nlm.nih.gov/protein/AYV91364.1?report=fasta)\" - Halichondria panicea (sea sponge)\n",
        "- \"[AAA19775.1](https://www.ncbi.nlm.nih.gov/protein/AAA19775.1?report=fasta)\" - Homo sapiens (human)\n",
        "- \"[P00158.1](https://www.ncbi.nlm.nih.gov/protein/P00158.1?report=fasta)\" - Mus musculus (house mouse)\n",
        "- \"[AAL57481.2](https://www.ncbi.nlm.nih.gov/protein/AAL57481.2?report=fasta)\" - Bos indicus (zebu/cattle)\n",
        "- \"[BAA85863.1](https://www.ncbi.nlm.nih.gov/protein/BAA85863.1?report=fasta)\" - Rattus rattus (black rat)\n",
        "- \"[CAA24007.1](https://www.ncbi.nlm.nih.gov/protein/CAA24007.1?report=fasta)\" - Bos taurus (cattle)\n"
      ],
      "metadata": {
        "id": "VeIW2j9pR5H5"
      }
    },
    {
      "cell_type": "code",
      "source": [
        "accn = [\"BAA06892.1\", \"YP_001648467.1\", \"AMV74140.1\", \"CAA39742.1\", \"AYV91364.1\", \"AAA19775.1\", \"P00158.1\", \"AAL57481.2\", \"BAA85863.1\", \"CAA24007.1\"]"
      ],
      "metadata": {
        "id": "aKllClcyv9SA"
      },
      "execution_count": 3,
      "outputs": []
    },
    {
      "cell_type": "code",
      "source": [
        "def get_fasta_data(accessions: list[str]) -> list[str]:\n",
        "  fasta_seqs = []\n",
        "  for seq in accessions:\n",
        "      res = requests.get(f\"https://www.ncbi.nlm.nih.gov/sviewer/viewer.fcgi?id={seq}&db=protein&report=fasta\")\n",
        "      fasta_seqs.append(res.text)\n",
        "  return fasta_seqs"
      ],
      "metadata": {
        "id": "GPdktchGzRU6"
      },
      "execution_count": 4,
      "outputs": []
    },
    {
      "cell_type": "code",
      "source": [
        "seqs = (get_fasta_data(accn))\n",
        "print(seqs[0])"
      ],
      "metadata": {
        "colab": {
          "base_uri": "https://localhost:8080/"
        },
        "id": "ljNmq8_Qv_KO",
        "outputId": "1ac5811e-3af0-44fd-f656-5f0106c28cab"
      },
      "execution_count": 5,
      "outputs": [
        {
          "output_type": "stream",
          "name": "stdout",
          "text": [
            ">BAA06892.1 cytochrome b (mitochondrion) [Bubalus bubalis]\n",
            "MTNIRKSHPLMKILNNAFIDLPAPSNISSWWNFGSLLGIWLILQILTGLFLAMHYTSDTTTAFSSVAHIC\n",
            "RDVNYGWIIRYMHANGASMFFICLYMHVGRGMYYGSYTFLETWNIGVILLFAVMATAFMGYVLPWGQMSF\n",
            "WGATVITNLLSAIPYIGTSLVEWIWGGFSVDKATLTRFFAFHFILPFIIAALAMVHLLFLHETGSNNPTG\n",
            "ISSDTDKIPFHPYYTIKDILGALLLILALMLLVLFAPDLLGDPDNYTPANPLNTPPHIKPEWYFLFAYAI\n",
            "LRSIPNKLGGVLALVLSILILILMPLLHTSKQRSMMFRPFSQCLFWILVANLLTLTWIGGQPVEHPYIII\n",
            "GQLASITYFLLILVLMPTASMIENNLLKW\n",
            "\n",
            "\n"
          ]
        }
      ]
    },
    {
      "cell_type": "markdown",
      "source": [
        "After getting the fasta data, it can be parsed with the fasta_parser function from Biobase so that the FASTA header and the sequence itself can easily be accessed separately."
      ],
      "metadata": {
        "id": "a5pbmTnnZdsR"
      }
    },
    {
      "cell_type": "code",
      "source": [
        "parsed_seqs = []\n",
        "for seq in seqs:\n",
        "  parsed = fasta_parser(seq)\n",
        "  parsed_seqs.extend(parsed)\n",
        "  print(parsed)\n",
        "\n",
        "print(\"\\n\", parsed_seqs[0].id)\n",
        "print(parsed_seqs[0].name)\n",
        "print(parsed_seqs[0].seq)"
      ],
      "metadata": {
        "colab": {
          "base_uri": "https://localhost:8080/"
        },
        "id": "9_uy-Rsj2Kj1",
        "outputId": "e22c52ef-db14-421e-9995-e5f53441a602"
      },
      "execution_count": 6,
      "outputs": [
        {
          "output_type": "stream",
          "name": "stdout",
          "text": [
            "[FastaRecord(id='BAA06892.1', name='cytochrome b (mitochondrion) [Bubalus bubalis]', seq_len=379)]\n",
            "[FastaRecord(id='YP_001648467.1', name='cytochrome b (mitochondrion) [Ephydatia muelleri]', seq_len=381)]\n",
            "[FastaRecord(id='AMV74140.1', name='cytochrome b (mitochondrion) [Spongilla lacustris]', seq_len=381)]\n",
            "[FastaRecord(id='CAA39742.1', name='cytochrome b (mitochondrion) [Sus scrofa]', seq_len=379)]\n",
            "[FastaRecord(id='AYV91364.1', name='cytochrome b (mitochondrion) [Halichondria panicea]', seq_len=383)]\n",
            "[FastaRecord(id='AAA19775.1', name='cytochrome b, partial (mitochondrion) [Homo sapiens]', seq_len=380)]\n",
            "[FastaRecord(id='sp|P00158.1|CYB_MOUSE', name='RecName: Full=Cytochrome b; AltName: Full=Complex III subunit 3; AltName: Full=Complex III subunit III; AltName: Full=Cytochrome b-c1 complex subunit 3; AltName: Full=Ubiquinol-cytochrome-c reductase complex cytochrome b subunit', seq_len=381)]\n",
            "[FastaRecord(id='AAL57481.2', name='cytochrome b (mitochondrion) [Bos indicus]', seq_len=379)]\n",
            "[FastaRecord(id='BAA85863.1', name='cytochrome b, partial (mitochondrion) [Rattus rattus]', seq_len=380)]\n",
            "[FastaRecord(id='CAA24007.1', name='cytochrome b (mitochondrion) [Bos taurus]', seq_len=379)]\n",
            "\n",
            " BAA06892.1\n",
            "cytochrome b (mitochondrion) [Bubalus bubalis]\n",
            "MTNIRKSHPLMKILNNAFIDLPAPSNISSWWNFGSLLGIWLILQILTGLFLAMHYTSDTTTAFSSVAHICRDVNYGWIIRYMHANGASMFFICLYMHVGRGMYYGSYTFLETWNIGVILLFAVMATAFMGYVLPWGQMSFWGATVITNLLSAIPYIGTSLVEWIWGGFSVDKATLTRFFAFHFILPFIIAALAMVHLLFLHETGSNNPTGISSDTDKIPFHPYYTIKDILGALLLILALMLLVLFAPDLLGDPDNYTPANPLNTPPHIKPEWYFLFAYAILRSIPNKLGGVLALVLSILILILMPLLHTSKQRSMMFRPFSQCLFWILVANLLTLTWIGGQPVEHPYIIIGQLASITYFLLILVLMPTASMIENNLLKW\n"
          ]
        }
      ]
    },
    {
      "cell_type": "markdown",
      "source": [
        "Next, a distance matrix is created by performing a pairwise alignment between each pair of sequences. Since these scores are reflected across the diagonal, duplicate calculations can be skipped and the diagonal can be set directly to zero, which reduces overall computation time.\n",
        "\n",
        "The BLOSUM62 substitution matrix is being used to more closely represent the likelihood of certain protein swaps happening."
      ],
      "metadata": {
        "id": "MNGvUQ-EZu4k"
      }
    },
    {
      "cell_type": "code",
      "source": [
        "dist_matrix = np.zeros((len(parsed_seqs), len(parsed_seqs)))\n",
        "needleman_wunsch_62 = NeedlemanWunsch(scoring_matrix=Blosum(62))\n",
        "\n",
        "for i, subject in enumerate(parsed_seqs):\n",
        "  for j, query in enumerate(parsed_seqs):\n",
        "    # Skips duplicate calculations\n",
        "    if i > j:\n",
        "      dist_matrix[i, j] = dist_matrix[j, i]\n",
        "      continue\n",
        "    # Distance of sequence from itself is 0\n",
        "    if i == j:\n",
        "      dist_matrix[i, j] = 0\n",
        "      continue\n",
        "    dist = needleman_wunsch_62.normalized_distance(subject.seq, query.seq)\n",
        "    dist_matrix[i, j] = dist"
      ],
      "metadata": {
        "id": "Q4ReHY0w5eKJ"
      },
      "execution_count": 13,
      "outputs": []
    },
    {
      "cell_type": "code",
      "source": [
        "np.set_printoptions(threshold=np.inf, linewidth=np.inf, precision=8, suppress=True)\n",
        "print(dist_matrix)"
      ],
      "metadata": {
        "colab": {
          "base_uri": "https://localhost:8080/"
        },
        "id": "2Ci_SSGtXp0i",
        "outputId": "433c3ac3-498a-46ba-f63c-b82470c2b285"
      },
      "execution_count": 14,
      "outputs": [
        {
          "output_type": "stream",
          "name": "stdout",
          "text": [
            "[[0.         0.49081365 0.49028871 0.40457344 0.52149695 0.44596491 0.42099738 0.39912049 0.41877193 0.39912049]\n",
            " [0.49081365 0.         0.39317585 0.49028871 0.46614447 0.50166229 0.49011374 0.48906387 0.48836395 0.48906387]\n",
            " [0.49028871 0.39317585 0.         0.48696413 0.46144473 0.49868766 0.48573928 0.488014   0.48521435 0.488014  ]\n",
            " [0.40457344 0.49028871 0.48696413 0.         0.51714534 0.44438596 0.42222222 0.40439754 0.41947368 0.40439754]\n",
            " [0.52149695 0.46614447 0.46144473 0.51714534 0.         0.52480418 0.51749347 0.51714534 0.51505657 0.51679721]\n",
            " [0.44596491 0.50166229 0.49868766 0.44438596 0.52480418 0.         0.44461942 0.44421053 0.4454386  0.44385965]\n",
            " [0.42099738 0.49011374 0.48573928 0.42222222 0.51749347 0.44461942 0.         0.42344707 0.39755031 0.42344707]\n",
            " [0.39912049 0.48906387 0.488014   0.40439754 0.51714534 0.44421053 0.42344707 0.         0.42140351 0.38047493]\n",
            " [0.41877193 0.48836395 0.48521435 0.41947368 0.51505657 0.4454386  0.39755031 0.42140351 0.         0.42140351]\n",
            " [0.39912049 0.48906387 0.488014   0.40439754 0.51679721 0.44385965 0.42344707 0.38047493 0.42140351 0.        ]]\n"
          ]
        }
      ]
    },
    {
      "cell_type": "markdown",
      "source": [
        "Now that a distance matrix has been created, we can perform the last step of creating a phylogenetic tree using the Neighbour Joining method from Goombay.\n",
        "\n",
        "To generate a tree, first a newick formatted string of the relative distances is created. Next, this string is converted to the file-like string buffer that is the correct type for the input of `Phylo.read()`. After the tree is generated by `Phylo.read()`, it can be displayed to the screen using `Phylo.draw()`.\n",
        "\n",
        "The number labels at the end of each branch correspond to the index of the original list of accession numbers."
      ],
      "metadata": {
        "id": "iuYyAfxhaKg1"
      }
    },
    {
      "cell_type": "code",
      "source": [
        "def generate_tree(distance_matrix):\n",
        "  nj_dist = NeighborJoining(distance_matrix)\n",
        "  newick = nj_dist.generate_newick()\n",
        "\n",
        "  handle = StringIO(newick)\n",
        "  tree = Phylo.read(handle, \"newick\")\n",
        "  return tree, newick"
      ],
      "metadata": {
        "id": "PCCy4-9vRNuA"
      },
      "execution_count": 15,
      "outputs": []
    },
    {
      "cell_type": "code",
      "source": [
        "\n",
        "tree, newick = generate_tree(dist_matrix)\n",
        "Phylo.draw(tree)\n",
        "print(newick)"
      ],
      "metadata": {
        "colab": {
          "base_uri": "https://localhost:8080/",
          "height": 486
        },
        "id": "-3Cr8YaLO8R7",
        "outputId": "63d4cfca-afb9-4fe7-c203-3a17dff49906"
      },
      "execution_count": 16,
      "outputs": [
        {
          "output_type": "display_data",
          "data": {
            "text/plain": [
              "<Figure size 640x480 with 1 Axes>"
            ],
            "image/png": "[encoded data removed]"
          },
          "metadata": {}
        },
        {
          "output_type": "stream",
          "name": "stdout",
          "text": [
            "((3:0.20190128684043884,((6:0.19961093366146088,8:0.19793938100337982):0.011291593313217163,(5:0.22698646783828735,(4:0.24609681963920593,(1:0.1979096566910859,2:0.19526619632728676):0.02110985666513443):0.05360579490661621):0.007111191749572754):0.008629314601421356):0.001511983573436737,(0:0.19961155951023102,(7:0.1902899593114853,9:0.19018496572971344):0.00927145779132843):0.001511983573436737);\n"
          ]
        }
      ]
    },
    {
      "cell_type": "markdown",
      "source": [
        "# Key\n",
        "\n",
        "- [0] Bubalus bubalis (water buffalo)\n",
        "- [1] Ephydatia muelleri (sea sponge)\n",
        "- [2] Spongilla lacustris (fresh water sea sponge)\n",
        "- [3] Sus scrofa (wild boar)\n",
        "- [4] Halichondria panicea (sea sponge)\n",
        "- [5] Homo sapiens (human)\n",
        "- [6] Mus musculus (house mouse)\n",
        "- [7] Bos indicus (zebu/cattle)\n",
        "- [8] Rattus rattus (black rat)\n",
        "- [9] Bos taurus (cattle)"
      ],
      "metadata": {
        "id": "cGIk2I8gWQqg"
      }
    }
  ]
}
