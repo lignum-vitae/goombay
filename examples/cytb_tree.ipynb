{
  "nbformat": 4,
  "nbformat_minor": 0,
  "metadata": {
    "colab": {
      "provenance": []
    },
    "kernelspec": {
      "name": "python3",
      "display_name": "Python 3"
    },
    "language_info": {
      "name": "python"
    }
  },
  "cells": [
    {
      "cell_type": "markdown",
      "source": [
        "This is a walkthrough on how to use [Goombay](https://github.com/lignum-vitae/goombay) and [Biobase](https://github.com/lignum-vitae/biobase) to create a distance matrix and phylogenetic tree to show evolutionary distances between different species."
      ],
      "metadata": {
        "id": "RitMT4JKnyMg"
      }
    },
    {
      "cell_type": "markdown",
      "source": [
        "Install Goombay and Biobase using either `pip` or `uv`. For the purposes of this demonstration, we'll be using `pip`. Outside of Google Colab, the prefix \"!\" would be omitted while entering the following shell command in the terminal."
      ],
      "metadata": {
        "id": "EhgUGVP7oqef"
      }
    },
    {
      "cell_type": "code",
      "source": [
        "!pip install --upgrade goombay\n",
        "!pip install --upgrade biobase\n",
        "!pip install --upgrade numpy\n",
        "!pip install --upgrade biopython"
      ],
      "metadata": {
        "colab": {
          "base_uri": "https://localhost:8080/"
        },
        "collapsed": true,
        "id": "I9IV2_QTpD52",
        "outputId": "f95a82e8-27ae-42aa-e396-6b124089b879"
      },
      "execution_count": 1,
      "outputs": []
    },
    {
      "cell_type": "markdown",
      "source": [
        "Goombay has over 20 sequence alignment algorithms including Waterman-Smith-Beyer, Smith-Waterman, Gotoh, and Jaro. For the purposes of this demonstation, we'll be using the Needleman-Wunsch algorithm to globally align the sequences and generate a distance matrix.\n",
        "\n",
        "The Neighbour Joining algorithm from Goombay will be used to generate the newick tree format needed to generate a visual tree. Newick tree format is a way of representing graph-theoretical trees with edge lengths using parentheses and commas. This allows the tree to be described programmatically before generating the final visual tree.\n",
        "\n",
        "Phylo and io are used to read the generated newick and display the tree. Although not strictly needed for this example, numpy will be used to make working with 2-D matrices easier."
      ],
      "metadata": {
        "id": "PjP34k7Io2bO"
      }
    },
    {
      "cell_type": "code",
      "source": [
        "# Standard library imports\n",
        "from io import StringIO\n",
        "import requests\n",
        "\n",
        "# Third-party imports\n",
        "from Bio import Phylo\n",
        "from biobase.parser import fasta_parser\n",
        "from goombay import NeedlemanWunsch, NeighborJoining\n",
        "import numpy as np"
      ],
      "metadata": {
        "id": "v2JQL71UkmMi"
      },
      "execution_count": 53,
      "outputs": []
    },
    {
      "cell_type": "markdown",
      "source": [
        "For this example, we'll be working with the `cytochrome b` protein across several species in order to determine evolutionary distance.\n",
        "\n",
        "- \"[BAA06892.1](https://www.ncbi.nlm.nih.gov/protein/BAA06892.1?report=fasta)\" - Bubalus bubalis (water buffalo)\n",
        "- \"[YP_001648467.1](https://www.ncbi.nlm.nih.gov/protein/YP_001648467.1?report=fasta)\" - Ephydatia muelleri (sea sponge)\n",
        "- \"[AMV74140.1](https://www.ncbi.nlm.nih.gov/protein/AMV74140.1?report=fasta)\" - Spongilla lacustris (fresh water sea sponge)\n",
        "- \"[CAA39742.1](https://www.ncbi.nlm.nih.gov/protein/CAA39742.1?report=fasta)\" - Sus scrofa (wild boar)\n",
        "- \"[AYV91364.1](https://www.ncbi.nlm.nih.gov/protein/AYV91364.1?report=fasta)\" - Halichondria panicea (sea sponge)\n",
        "- \"[AAA19775.1](https://www.ncbi.nlm.nih.gov/protein/AAA19775.1?report=fasta)\" - Homo sapiens (human)\n",
        "- \"[P00158.1](https://www.ncbi.nlm.nih.gov/protein/P00158.1?report=fasta)\" - Mus musculus (house mouse)\n",
        "- \"[AAL57481.2](https://www.ncbi.nlm.nih.gov/protein/AAL57481.2?report=fasta)\" - Bos indicus (zebu/cattle)\n",
        "- \"[BAA85863.1](https://www.ncbi.nlm.nih.gov/protein/BAA85863.1?report=fasta)\" - Rattus rattus (black rat)\n",
        "- \"[CAA24007.1](https://www.ncbi.nlm.nih.gov/protein/CAA24007.1?report=fasta)\" - Bos taurus (cattle)\n"
      ],
      "metadata": {
        "id": "VeIW2j9pR5H5"
      }
    },
    {
      "cell_type": "code",
      "source": [
        "accn = [\"BAA06892.1\", \"YP_001648467.1\", \"AMV74140.1\", \"CAA39742.1\", \"AYV91364.1\", \"AAA19775.1\", \"P00158.1\", \"AAL57481.2\", \"BAA85863.1\", \"CAA24007.1\"]"
      ],
      "metadata": {
        "id": "aKllClcyv9SA"
      },
      "execution_count": 45,
      "outputs": []
    },
    {
      "cell_type": "code",
      "source": [
        "def get_fasta_data(accessions: list[str]) -> list[str]:\n",
        "  fasta_seqs = []\n",
        "  for seq in accessions:\n",
        "      res = requests.get(f\"https://www.ncbi.nlm.nih.gov/sviewer/viewer.fcgi?id={seq}&db=protein&report=fasta\")\n",
        "      fasta_seqs.append(res.text)\n",
        "  return fasta_seqs"
      ],
      "metadata": {
        "id": "GPdktchGzRU6"
      },
      "execution_count": 46,
      "outputs": []
    },
    {
      "cell_type": "code",
      "source": [
        "seqs = (get_fasta_data(accn))\n",
        "print(seqs[0])"
      ],
      "metadata": {
        "colab": {
          "base_uri": "https://localhost:8080/"
        },
        "id": "ljNmq8_Qv_KO",
        "outputId": "d5623bb1-6907-48cf-e1ab-b3fee1909e32"
      },
      "execution_count": 47,
      "outputs": [
        {
          "output_type": "stream",
          "name": "stdout",
          "text": [
            ">BAA06892.1 cytochrome b (mitochondrion) [Bubalus bubalis]\n",
            "MTNIRKSHPLMKILNNAFIDLPAPSNISSWWNFGSLLGIWLILQILTGLFLAMHYTSDTTTAFSSVAHIC\n",
            "RDVNYGWIIRYMHANGASMFFICLYMHVGRGMYYGSYTFLETWNIGVILLFAVMATAFMGYVLPWGQMSF\n",
            "WGATVITNLLSAIPYIGTSLVEWIWGGFSVDKATLTRFFAFHFILPFIIAALAMVHLLFLHETGSNNPTG\n",
            "ISSDTDKIPFHPYYTIKDILGALLLILALMLLVLFAPDLLGDPDNYTPANPLNTPPHIKPEWYFLFAYAI\n",
            "LRSIPNKLGGVLALVLSILILILMPLLHTSKQRSMMFRPFSQCLFWILVANLLTLTWIGGQPVEHPYIII\n",
            "GQLASITYFLLILVLMPTASMIENNLLKW\n",
            "\n",
            "\n"
          ]
        }
      ]
    },
    {
      "cell_type": "markdown",
      "source": [
        "After getting the fasta data, it can be parsed with the fasta_parser function from Biobase so that the FASTA header and the sequence itself can easily be accessed separately."
      ],
      "metadata": {
        "id": "a5pbmTnnZdsR"
      }
    },
    {
      "cell_type": "code",
      "source": [
        "parsed_seqs = []\n",
        "for seq in seqs:\n",
        "  parsed = fasta_parser(seq)\n",
        "  parsed_seqs.extend(parsed)\n",
        "  print(parsed)\n",
        "\n",
        "print(\"\\n\", parsed_seqs[0].id)\n",
        "print(parsed_seqs[0].name)\n",
        "print(parsed_seqs[0].seq)"
      ],
      "metadata": {
        "colab": {
          "base_uri": "https://localhost:8080/"
        },
        "id": "9_uy-Rsj2Kj1",
        "outputId": "7fa04220-4b29-4f0b-d59f-f322918e619e"
      },
      "execution_count": 48,
      "outputs": [
        {
          "output_type": "stream",
          "name": "stdout",
          "text": [
            "[FastaRecord(id='BAA06892.1', name='cytochrome b (mitochondrion) [Bubalus bubalis]', seq_len=379)]\n",
            "[FastaRecord(id='YP_001648467.1', name='cytochrome b (mitochondrion) [Ephydatia muelleri]', seq_len=381)]\n",
            "[FastaRecord(id='AMV74140.1', name='cytochrome b (mitochondrion) [Spongilla lacustris]', seq_len=381)]\n",
            "[FastaRecord(id='CAA39742.1', name='cytochrome b (mitochondrion) [Sus scrofa]', seq_len=379)]\n",
            "[FastaRecord(id='AYV91364.1', name='cytochrome b (mitochondrion) [Halichondria panicea]', seq_len=383)]\n",
            "[FastaRecord(id='AAA19775.1', name='cytochrome b, partial (mitochondrion) [Homo sapiens]', seq_len=380)]\n",
            "[FastaRecord(id='sp|P00158.1|CYB_MOUSE', name='RecName: Full=Cytochrome b; AltName: Full=Complex III subunit 3; AltName: Full=Complex III subunit III; AltName: Full=Cytochrome b-c1 complex subunit 3; AltName: Full=Ubiquinol-cytochrome-c reductase complex cytochrome b subunit', seq_len=381)]\n",
            "[FastaRecord(id='AAL57481.2', name='cytochrome b (mitochondrion) [Bos indicus]', seq_len=379)]\n",
            "[FastaRecord(id='BAA85863.1', name='cytochrome b, partial (mitochondrion) [Rattus rattus]', seq_len=380)]\n",
            "[FastaRecord(id='CAA24007.1', name='cytochrome b (mitochondrion) [Bos taurus]', seq_len=379)]\n",
            "\n",
            " BAA06892.1\n",
            "cytochrome b (mitochondrion) [Bubalus bubalis]\n",
            "MTNIRKSHPLMKILNNAFIDLPAPSNISSWWNFGSLLGIWLILQILTGLFLAMHYTSDTTTAFSSVAHICRDVNYGWIIRYMHANGASMFFICLYMHVGRGMYYGSYTFLETWNIGVILLFAVMATAFMGYVLPWGQMSFWGATVITNLLSAIPYIGTSLVEWIWGGFSVDKATLTRFFAFHFILPFIIAALAMVHLLFLHETGSNNPTGISSDTDKIPFHPYYTIKDILGALLLILALMLLVLFAPDLLGDPDNYTPANPLNTPPHIKPEWYFLFAYAILRSIPNKLGGVLALVLSILILILMPLLHTSKQRSMMFRPFSQCLFWILVANLLTLTWIGGQPVEHPYIIIGQLASITYFLLILVLMPTASMIENNLLKW\n"
          ]
        }
      ]
    },
    {
      "cell_type": "markdown",
      "source": [
        "Next, a distance matrix is created by performing a pairwise alignment between each pair of sequences. Since these scores are reflected across the diagonal, duplicate calculations can be skipped and the diagonal can be set directly to zero, which reduces overall computation time."
      ],
      "metadata": {
        "id": "MNGvUQ-EZu4k"
      }
    },
    {
      "cell_type": "code",
      "source": [
        "dist_matrix = np.zeros((len(parsed_seqs), len(parsed_seqs)))\n",
        "needleman_wunsch = NeedlemanWunsch()\n",
        "\n",
        "for i, subject in enumerate(parsed_seqs):\n",
        "  for j, query in enumerate(parsed_seqs):\n",
        "    # Skips duplicate calculations\n",
        "    if i > j:\n",
        "      dist_matrix[i, j] = dist_matrix[j, i]\n",
        "      continue\n",
        "    # Distance of sequence from itself is 0\n",
        "    if i == j:\n",
        "      dist_matrix[i, j] = 0\n",
        "      continue\n",
        "    dist = needleman_wunsch.normalized_distance(subject.seq, query.seq)\n",
        "    dist_matrix[i, j] = dist"
      ],
      "metadata": {
        "id": "Q4ReHY0w5eKJ"
      },
      "execution_count": 51,
      "outputs": []
    },
    {
      "cell_type": "code",
      "source": [
        "np.set_printoptions(threshold=np.inf, linewidth=np.inf, precision=8, suppress=True)\n",
        "print(dist_matrix)"
      ],
      "metadata": {
        "colab": {
          "base_uri": "https://localhost:8080/"
        },
        "id": "2Ci_SSGtXp0i",
        "outputId": "432d5185-dd4e-4646-e25f-88add78ba2f9"
      },
      "execution_count": 52,
      "outputs": [
        {
          "output_type": "stream",
          "name": "stdout",
          "text": [
            "[[0.         0.36395451 0.35870516 0.09498681 0.45778938 0.2245614  0.15135608 0.06068602 0.14561404 0.06068602]\n",
            " [0.36395451 0.         0.03412073 0.36395451 0.31505657 0.40244969 0.36220472 0.35608049 0.3552056  0.35870516]\n",
            " [0.35870516 0.03412073 0.         0.35608049 0.30200174 0.39457568 0.35170604 0.35083115 0.34995626 0.35345582]\n",
            " [0.09498681 0.36395451 0.35608049 0.         0.45778938 0.22719298 0.15135608 0.10026385 0.15087719 0.10026385]\n",
            " [0.45778938 0.31505657 0.30200174 0.45778938 0.         0.46475196 0.4586597  0.44995648 0.44386423 0.44734552]\n",
            " [0.2245614  0.40244969 0.39457568 0.22719298 0.46475196 0.         0.223972   0.22192982 0.21842105 0.21666667]\n",
            " [0.15135608 0.36220472 0.35170604 0.15135608 0.4586597  0.223972   0.         0.16185477 0.07174103 0.16185477]\n",
            " [0.06068602 0.35608049 0.35083115 0.10026385 0.44995648 0.22192982 0.16185477 0.         0.16140351 0.00527704]\n",
            " [0.14561404 0.3552056  0.34995626 0.15087719 0.44386423 0.21842105 0.07174103 0.16140351 0.         0.16140351]\n",
            " [0.06068602 0.35870516 0.35345582 0.10026385 0.44734552 0.21666667 0.16185477 0.00527704 0.16140351 0.        ]]\n"
          ]
        }
      ]
    },
    {
      "cell_type": "markdown",
      "source": [
        "Now that a distance matrix has been created, we can perform the last step of creating a phylogenetic tree using the Neighbour Joining method from Goombay.\n",
        "\n",
        "To generate a tree, first a newick formatted string of the relative distances is created. Next, this string is converted to the file-like string buffer that is the correct type for the input of `Phylo.read()`. After the tree is generated by `Phylo.read()`, it can be displayed to the screen using `Phylo.draw()`.\n",
        "\n",
        "The number labels at the end of each branch correspond to the index of the original list of accession numbers."
      ],
      "metadata": {
        "id": "iuYyAfxhaKg1"
      }
    },
    {
      "cell_type": "code",
      "source": [
        "def generate_tree(distance_matrix):\n",
        "  nj_dist = NeighborJoining(distance_matrix)\n",
        "  newick = nj_dist.generate_newick()\n",
        "\n",
        "  handle = StringIO(newick)\n",
        "  tree = Phylo.read(handle, \"newick\")\n",
        "  return tree, newick"
      ],
      "metadata": {
        "id": "PCCy4-9vRNuA"
      },
      "execution_count": 37,
      "outputs": []
    },
    {
      "cell_type": "code",
      "source": [
        "\n",
        "tree, newick = generate_tree(dist_matrix)\n",
        "Phylo.draw(tree)\n",
        "print(newick)"
      ],
      "metadata": {
        "colab": {
          "base_uri": "https://localhost:8080/",
          "height": 486
        },
        "id": "-3Cr8YaLO8R7",
        "outputId": "26089b2a-f89a-4adf-999f-3141cbe72a32"
      },
      "execution_count": 50,
      "outputs": [
        {
          "output_type": "display_data",
          "data": {
            "text/plain": [
              "<Figure size 640x480 with 1 Axes>"
            ],
            "image/png": "[encoded data removed]"
          },
          "metadata": {}
        },
        {
          "output_type": "stream",
          "name": "stdout",
          "text": [
            "((0:0.028200311586260796,(7:0.0031641521491110325,9:0.002112892922013998):0.02984718047082424):0.009194135665893555,(3:0.04889404773712158,((6:0.03772547096014023,8:0.034015558660030365):0.03945207595825195,(5:0.12444882094860077,(4:0.20006628334522247,(1:0.020829050252530457,2:0.01329168465560604):0.09140251576900482):0.15291891992092133):0.020967036485671997):0.029635488986968994):0.009194135665893555);\n"
          ]
        }
      ]
    },
    {
      "cell_type": "markdown",
      "source": [
        "# Key\n",
        "\n",
        "- [0] Bubalus bubalis (water buffalo)\n",
        "- [1] Ephydatia muelleri (sea sponge)\n",
        "- [2] Spongilla lacustris (fresh water sea sponge)\n",
        "- [3] Sus scrofa (wild boar)\n",
        "- [4] Halichondria panicea (sea sponge)\n",
        "- [5] Homo sapiens (human)\n",
        "- [6] Mus musculus (house mouse)\n",
        "- [7] Bos indicus (zebu/cattle)\n",
        "- [8] Rattus rattus (black rat)\n",
        "- [9] Bos taurus (cattle)"
      ],
      "metadata": {
        "id": "cGIk2I8gWQqg"
      }
    }
  ]
}
